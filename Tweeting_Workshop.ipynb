{
  "nbformat": 4,
  "nbformat_minor": 0,
  "metadata": {
    "colab": {
      "provenance": [],
      "include_colab_link": true
    },
    "kernelspec": {
      "name": "python3",
      "display_name": "Python 3"
    },
    "language_info": {
      "name": "python"
    }
  },
  "cells": [
    {
      "cell_type": "markdown",
      "metadata": {
        "id": "view-in-github",
        "colab_type": "text"
      },
      "source": [
        "<a href=\"https://colab.research.google.com/github/kratadata/Algorithmica/blob/main/Tweeting_Workshop.ipynb\" target=\"_parent\"><img src=\"https://colab.research.google.com/assets/colab-badge.svg\" alt=\"Open In Colab\"/></a>"
      ]
    },
    {
      "cell_type": "markdown",
      "source": [
        "#Create a Twitter Bot\n",
        "\n",
        "1. go to: https://developer.twitter.com\n",
        "2. register a new app in the `Projects & Apps` section. Be aware to register a standalone app and not a project\n",
        "3. After this you should get the API keys, the next move is to generate the `ACCESS TOKENS` \n",
        "4. go to your app and click on `Keys and tokens` tab. In the `Authentication Tokens` click the `generate` button for Access Token and Secret\n",
        "5. Next step is to set up the authentication, in the App details `Settings` tab click the `Set up` button\n",
        "6. Set `App permissions` to Read and write and `Type of App` to Web App, Automated App or Bot. Than set the `App info`: Callback URI to `https://twitter.com` Website url to your own website domain if you have any\n",
        "7. save somewhere the CLIENT TOKENS\n",
        "8. regenerate the `ACCESS TOKENS` as in step `3`\n",
        "\n",
        "\n",
        "\n"
      ],
      "metadata": {
        "id": "tu658otthKYg"
      }
    },
    {
      "cell_type": "code",
      "execution_count": null,
      "metadata": {
        "colab": {
          "base_uri": "https://localhost:8080/"
        },
        "id": "epKZTy9ZgBnW",
        "outputId": "d8f06085-14ff-4fed-8f41-735e433b7ef9"
      },
      "outputs": [
        {
          "output_type": "stream",
          "name": "stdout",
          "text": [
            "Looking in indexes: https://pypi.org/simple, https://us-python.pkg.dev/colab-wheels/public/simple/\n",
            "Requirement already satisfied: tweepy==4.12.1 in /usr/local/lib/python3.7/dist-packages (4.12.1)\n",
            "Requirement already satisfied: requests-oauthlib<2,>=1.2.0 in /usr/local/lib/python3.7/dist-packages (from tweepy==4.12.1) (1.3.1)\n",
            "Requirement already satisfied: oauthlib<4,>=3.2.0 in /usr/local/lib/python3.7/dist-packages (from tweepy==4.12.1) (3.2.2)\n",
            "Requirement already satisfied: requests<3,>=2.27.0 in /usr/local/lib/python3.7/dist-packages (from tweepy==4.12.1) (2.28.1)\n",
            "Requirement already satisfied: charset-normalizer<3,>=2 in /usr/local/lib/python3.7/dist-packages (from requests<3,>=2.27.0->tweepy==4.12.1) (2.1.1)\n",
            "Requirement already satisfied: idna<4,>=2.5 in /usr/local/lib/python3.7/dist-packages (from requests<3,>=2.27.0->tweepy==4.12.1) (2.10)\n",
            "Requirement already satisfied: urllib3<1.27,>=1.21.1 in /usr/local/lib/python3.7/dist-packages (from requests<3,>=2.27.0->tweepy==4.12.1) (1.24.3)\n",
            "Requirement already satisfied: certifi>=2017.4.17 in /usr/local/lib/python3.7/dist-packages (from requests<3,>=2.27.0->tweepy==4.12.1) (2022.9.24)\n"
          ]
        }
      ],
      "source": [
        "# @title Install dependencies\n",
        "!pip install tweepy==4.12.1"
      ]
    },
    {
      "cell_type": "code",
      "source": [
        "# @title Import the library\n",
        "\n",
        "import tweepy\n",
        "from tweepy.auth import OAuthHandler"
      ],
      "metadata": {
        "id": "n8_Uf0-F2vuB"
      },
      "execution_count": null,
      "outputs": []
    },
    {
      "cell_type": "code",
      "source": [
        "# @title Authenticate with secret Tokens credentials\n",
        "API_KEY = '*'\n",
        "API_KEY_SECRET = '*'\n",
        "ACCESS_TOKEN = '*'\n",
        "ACCESS_TOKEN_SECRET = '*'\n",
        "\n",
        "auth = OAuthHandler(API_KEY, API_KEY_SECRET)\n",
        "auth.set_access_token(ACCESS_TOKEN, ACCESS_TOKEN_SECRET)\n",
        "\n",
        "api = tweepy.API(auth)"
      ],
      "metadata": {
        "id": "sHMllVIk4q9_"
      },
      "execution_count": null,
      "outputs": []
    },
    {
      "cell_type": "code",
      "source": [
        "# @title Retrieve Public tweets from own timeline\n",
        "public_tweets = api.home_timeline()\n",
        "for tweet in public_tweets:\n",
        "    print(tweet.text)"
      ],
      "metadata": {
        "colab": {
          "base_uri": "https://localhost:8080/"
        },
        "id": "IzZEpV47VPVJ",
        "outputId": "d575cafe-956d-41aa-9f28-71fa026d410c"
      },
      "execution_count": null,
      "outputs": [
        {
          "output_type": "stream",
          "name": "stdout",
          "text": [
            "New studio view https://t.co/Jxu7asYwLj\n",
            "RT @moisesdsanabria: Throwback when @mannynotfound and I are wearing the results of Google Searching our names to explore digital identity.…\n",
            "when we had no furniture we danced alot \n",
            " https://t.co/J4NWM6qZrd\n",
            "our floor projection rig https://t.co/IaHaKCXIMT\n",
            "https://t.co/2uQSWaHVMz\n",
            "Not gonna miss the leaky roof and cold winters ✌️\n",
            "Moving studios today — gonna miss this place with its skylights, tiny rooms, hipster stove, ladder my dog couldn’t… https://t.co/9EndvPIOXq\n",
            "Hey gang! I just uploaded part 10 of my '#VSCode Extension Spotlight' series on TikTok: https://t.co/19Bp8fPFUZ #coding #codinglife\n",
            "stilllllllllllls https://t.co/hm6JNHAbj3\n",
            "Rectangle stripe lights https://t.co/SUlbd6IKm0\n",
            "Light pops https://t.co/RwjwU2XXmT\n",
            "time for some docs https://t.co/nJ4aCm7XSb\n",
            "Light lines https://t.co/AmcUU7KcqQ\n",
            "looking for recommendations of newsletter + blog-like tools (eg. https://t.co/cMVTLEWiAf) that are ethical ideally… https://t.co/Cle4CYvpEU\n",
            "Reflection studies getting remotely installed in taiwan ✨✨ very excited to be exhibiting this there… (thx… https://t.co/ju7R9gqrd6\n",
            "Second time sitting inside in this historical bar https://t.co/ln1O7pbHsX https://t.co/3O9QchmrVF\n",
            "RT @AIbigeiken: 表面の背景画像は、AI愛護団体＋Midjourney \n",
            "《Is it the composer's fault that the performer has only 10 fingers?, CHARES IVES Symphony for f…\n",
            "RT @AIbigeiken: Artificial Intelligence Art and Aesthetics Exhibition: Is it the composer's fault that the performer has only 10 fingers? -…\n",
            "RT @AIbigeiken: 人工知能美学芸術展「演奏家に指が10本しかないのは作曲家の責任なのか」2022年12月25日（日）パルテノン多摩　アイヴズ《交響曲第4番》※今世紀日本初演　ハース《スティーヴ・ライヒ讃》　ナンカロウ他 #AI美芸研\n",
            "【日本語頁】https://t…\n"
          ]
        }
      ]
    },
    {
      "cell_type": "code",
      "source": [
        "# @title Search for tweets given a query\n",
        "\n",
        "query = 'apple'\n",
        "result = api.search_tweets(query)\n",
        "\n",
        "for tweet in result:\n",
        "  print(tweet.text)\n",
        "  print(tweet.id)\n"
      ],
      "metadata": {
        "colab": {
          "base_uri": "https://localhost:8080/"
        },
        "id": "jmN7znja77p4",
        "outputId": "0cf06d81-15db-469f-9b02-114552f90442"
      },
      "execution_count": null,
      "outputs": [
        {
          "output_type": "stream",
          "name": "stdout",
          "text": [
            "RT @LelloucheNico: 📱 🎂 Quelques mois après les États-Unis, l’iPhone fête son 15ème anniversaire en France. Le 28 novembre 2007, Apple avait…\n",
            "1597257301647589376\n",
            "RT @SAlgabdh2: سحب سريع علي 1,250,000  ريال 💸 لـ 5 فائزين + 5 (Apple iPhone 14 Pro) الذهبي\n",
            "\n",
            "الاول :500 الف\n",
            "الثاني :300 الف\n",
            "الثالث :200 الف…\n",
            "1597257299621720064\n",
            "RT @UnscriptedIdara: It's damn near impossible for you not to,love + vibe to this LOADED by Tiwa savage+Asake \n",
            "\n",
            "If you don't move with exci…\n",
            "1597257298690572290\n",
            "RT @JackPosobiec: Apple restricted AirDrop in China weeks before widespread protests broke out\n",
            "\n",
            "https://t.co/yABsnNiJue\n",
            "1597257297289711616\n",
            "@WhalesMetaverse #STATE december surely have its big surprise coming with their metaverse and offline p2p on the go… https://t.co/dVvMyowYVp\n",
            "1597257294806659072\n",
            "RT @waduhh_x: look, the creative team at spotify need a raise !! the instafest thing that creates a festival line up from the artists u lis…\n",
            "1597257294437236736\n",
            "@gorgeous4ew تبي فلوس مجاناً؟\n",
            "والله العظيم اتكلم جد 😮 \n",
            "\n",
            "١-حمل تطبيق URpay التابع للراجحي\n",
            "٢-سجل في التطبيق بكل سهولة… https://t.co/PsgWBWHE8Y\n",
            "1597257292332027906\n",
            "RT @french_story_: Vote @winmetawin\n",
            "Website: \n",
            "    🔸️ https://t.co/FlN6bkAcaO \n",
            "App: \n",
            "   🔸️  https://t.co/KZ2H3yuyIL \n",
            "   🔸️ https://t.co/8cV6…\n",
            "1597257291161817089\n",
            "おいやめろ、セフレって入力しようとしてるのに「セツナ」って自動変換するなApple\n",
            "1597257291077943297\n",
            "RT @2seokily: once again ALL streaming platforms are as important as Spotify. This fandom tends to focus way too much on Spotify. We will n…\n",
            "1597257291056615424\n",
            "Tune in to #EKNRadioNetwork for #Debrief presented by Alan Rudolph Racing Academy as EKN crew breakdown… https://t.co/eDC04Zv9mu\n",
            "1597257290603581442\n",
            "#طلقني_تكفون_شلون_احرق_قلبه برنامج urpay رهيب عبارة عن محفظة رقمية الحلو انه تابع للراجحي وموثق من نفاذ إذا حملت ال… https://t.co/fmK5YTTRoY\n",
            "1597257288955617281\n",
            "Apple 아이폰 13 mini 자급제, 128GB, 핑크 https://t.co/pUnKtp0Hpi 파트너스 활동을 통해 일정액의 수수료를 제공 받을수있음 https://t.co/BKawHbjs0M\n",
            "1597257287915405314\n",
            "https://t.co/wAcpUn0HZd\n",
            "1597257286103097347\n",
            "RT @unusual_whales: Here is a reported video from this week of workers fighting with guards at Foxconn Technology’s plant in China that pro…\n",
            "1597257285457223682\n"
          ]
        }
      ]
    },
    {
      "cell_type": "markdown",
      "source": [
        "## Posting a Tweet\n",
        "\n",
        "`api.update_status(status, *, in_reply_to_status_id, auto_populate_reply_metadata, exclude_reply_user_ids, attachment_url, media_ids, possibly_sensitive, lat, long, place_id, display_coordinates, trim_user, card_uri)`\n",
        "\n",
        "### `Parameters`\n",
        "\n",
        "`status` – The text of your status update. <= !! this is probably the only one needed !!\n",
        "\n",
        "`in_reply_to_status_id` – The ID of an existing status that the update is in reply to. Note: This parameter will be ignored unless the author of the Tweet this parameter references is mentioned within the status text. Therefore, you must include @username, where username is the author of the referenced Tweet, within the update.\n",
        "\n",
        "`auto_populate_reply_metadata` – If set to true and used with in_reply_to_status_id, leading @mentions will be looked up from the original Tweet, and added to the new Tweet from there. This wil append @mentions into the metadata of an extended Tweet as a reply chain grows, until the limit on @mentions is reached. In cases where the original Tweet has been deleted, the reply will fail.\n",
        "\n",
        "`exclude_reply_user_ids` – When used with auto_populate_reply_metadata, a comma-separated list of user ids which will be removed from the server-generated @mentions prefix on an extended Tweet. Note that the leading @mention cannot be removed as it would break the in-reply-to-status-id semantics. Attempting to remove it will be silently ignored.\n",
        "\n",
        "`attachment_url` – In order for a URL to not be counted in the status body of an extended Tweet, provide a URL as a Tweet attachment. This URL must be a Tweet permalink, or Direct Message deep link. Arbitrary, non-Twitter URLs must remain in the status text. URLs passed to the attachment_url parameter not matching either a Tweet permalink or Direct Message deep link will fail at Tweet creation and cause an exception.\n",
        "\n",
        "`media_ids` – A list of media_ids to associate with the Tweet. You may include up to 4 photos or 1 animated GIF or 1 video in a Tweet.\n",
        "\n",
        "`possibly_sensitive` – If you upload Tweet media that might be considered sensitive content such as nudity, or medical procedures, you must set this value to true.\n",
        "\n",
        "`lat`– The latitude of the location this Tweet refers to. This parameter will be ignored unless it is inside the range -90.0 to +90.0 (North is positive) inclusive. It will also be ignored if there is no corresponding long parameter.\n",
        "\n",
        "`long` – The longitude of the location this Tweet refers to. The valid ranges for longitude are -180.0 to +180.0 (East is positive) inclusive. This parameter will be ignored if outside that range, if it is not a number, if geo_enabled is disabled, or if there no corresponding lat parameter.\n",
        "\n",
        "`place_id` – A place in the world.\n",
        "\n",
        "`display_coordinates` – Whether or not to put a pin on the exact coordinates a Tweet has been sent from.\n",
        "\n",
        "`trim_user` – A boolean indicating if user IDs should be provided, instead of complete user objects. Defaults to False.\n",
        "\n",
        "`card_uri` – Associate an ads card with the Tweet using the card_uri value from any ads card response.\n",
        "\n",
        "Sources:\n",
        "- https://docs.tweepy.org/en/stable/api.html#tweepy.API.update_status\n",
        "- https://developer.twitter.com/en/docs/twitter-api/v1/tweets/post-and-engage/api-reference/post-statuses-update"
      ],
      "metadata": {
        "id": "6DSuNXaIWIR7"
      }
    },
    {
      "cell_type": "code",
      "source": [
        "# @title Post a Tweet\n",
        "\n",
        "api.update_status('tweeted from colab')"
      ],
      "metadata": {
        "id": "QxyDInRBVs8L"
      },
      "execution_count": null,
      "outputs": []
    },
    {
      "cell_type": "markdown",
      "source": [
        "## Posting an Image\n",
        "\n",
        "`api.update_status_with_media(status, filename, *, file, possibly_sensitive, in_reply_to_status_id, lat, long, place_id, display_coordinates)`\n",
        "\n",
        "### `Parameters:`\n",
        "\n",
        "`status` – The text of your status update.\n",
        "\n",
        "`filename` – The filename of the image to upload. This will automatically be opened unless file is specified.\n",
        "\n",
        "`file` – A file object, which will be used instead of opening filename. filename is still required, for MIME type detection and to use as a form field in the POST data.\n",
        "\n",
        "`possibly_sensitive` – Set to true for content which may not be suitable for every audience.\n",
        "\n",
        "`in_reply_to_status_id` – The ID of an existing status that the update is in reply to.\n",
        "\n",
        "`lat` – The location’s latitude that this tweet refers to.\n",
        "\n",
        "`long` – The location’s longitude that this tweet refers to.\n",
        "\n",
        "`place_id` – Twitter ID of location which is listed in the Tweet if geolocation is enabled for the user.\n",
        "\n",
        "`display_coordinates` – Whether or not to put a pin on the exact coordinates a Tweet has been sent from.\n",
        "\n",
        "\n",
        "\n",
        "Sources:\n",
        "- https://docs.tweepy.org/en/stable/api.html#tweepy.API.update_status_with_media\n",
        "- https://developer.twitter.com/en/docs/twitter-api/v1/tweets/post-and-engage/api-reference/post-statuses-update_with_media"
      ],
      "metadata": {
        "id": "LIAXsTHSYHce"
      }
    },
    {
      "cell_type": "code",
      "source": [
        "# @title Post an Image\n",
        "# upload images to the sample_data folder\n",
        "\n",
        "\n",
        "api.update_status_with_media('tweeted an image from colab', 'sample_data/screen.png')"
      ],
      "metadata": {
        "colab": {
          "base_uri": "https://localhost:8080/"
        },
        "id": "ettud3oeXRie",
        "outputId": "1b10affd-3aea-4703-917c-2a634949d087"
      },
      "execution_count": null,
      "outputs": [
        {
          "output_type": "execute_result",
          "data": {
            "text/plain": [
              "Status(_api=<tweepy.api.API object at 0x7f0be67c6c50>, _json={'created_at': 'Mon Nov 28 15:58:51 +0000 2022', 'id': 1597258729233186818, 'id_str': '1597258729233186818', 'text': 'tweeted an image from colab https://t.co/YWb97W1e5N', 'truncated': False, 'entities': {'hashtags': [], 'symbols': [], 'user_mentions': [], 'urls': [], 'media': [{'id': 1597258728037924865, 'id_str': '1597258728037924865', 'indices': [28, 51], 'media_url': 'http://pbs.twimg.com/media/FiqaWbsXwAEs8k2.png', 'media_url_https': 'https://pbs.twimg.com/media/FiqaWbsXwAEs8k2.png', 'url': 'https://t.co/YWb97W1e5N', 'display_url': 'pic.twitter.com/YWb97W1e5N', 'expanded_url': 'https://twitter.com/tobonay/status/1597258729233186818/photo/1', 'type': 'photo', 'sizes': {'large': {'w': 602, 'h': 344, 'resize': 'fit'}, 'medium': {'w': 602, 'h': 344, 'resize': 'fit'}, 'small': {'w': 602, 'h': 344, 'resize': 'fit'}, 'thumb': {'w': 150, 'h': 150, 'resize': 'crop'}}}]}, 'extended_entities': {'media': [{'id': 1597258728037924865, 'id_str': '1597258728037924865', 'indices': [28, 51], 'media_url': 'http://pbs.twimg.com/media/FiqaWbsXwAEs8k2.png', 'media_url_https': 'https://pbs.twimg.com/media/FiqaWbsXwAEs8k2.png', 'url': 'https://t.co/YWb97W1e5N', 'display_url': 'pic.twitter.com/YWb97W1e5N', 'expanded_url': 'https://twitter.com/tobonay/status/1597258729233186818/photo/1', 'type': 'photo', 'sizes': {'large': {'w': 602, 'h': 344, 'resize': 'fit'}, 'medium': {'w': 602, 'h': 344, 'resize': 'fit'}, 'small': {'w': 602, 'h': 344, 'resize': 'fit'}, 'thumb': {'w': 150, 'h': 150, 'resize': 'crop'}}}]}, 'source': '<a href=\"https://yyyyyyyy.xyz\" rel=\"nofollow\">synthetic-normal</a>', 'in_reply_to_status_id': None, 'in_reply_to_status_id_str': None, 'in_reply_to_user_id': None, 'in_reply_to_user_id_str': None, 'in_reply_to_screen_name': None, 'user': {'id': 812625522689765376, 'id_str': '812625522689765376', 'name': 'tobonay', 'screen_name': 'tobonay', 'location': '', 'description': '', 'url': None, 'entities': {'description': {'urls': []}}, 'protected': False, 'followers_count': 17, 'friends_count': 31, 'listed_count': 0, 'created_at': 'Sat Dec 24 11:46:37 +0000 2016', 'favourites_count': 4, 'utc_offset': None, 'time_zone': None, 'geo_enabled': False, 'verified': False, 'statuses_count': 262, 'lang': None, 'contributors_enabled': False, 'is_translator': False, 'is_translation_enabled': False, 'profile_background_color': 'F5F8FA', 'profile_background_image_url': None, 'profile_background_image_url_https': None, 'profile_background_tile': False, 'profile_image_url': 'http://pbs.twimg.com/profile_images/870298485773488128/QrsOZ_Sh_normal.jpg', 'profile_image_url_https': 'https://pbs.twimg.com/profile_images/870298485773488128/QrsOZ_Sh_normal.jpg', 'profile_banner_url': 'https://pbs.twimg.com/profile_banners/812625522689765376/1496330382', 'profile_link_color': '1DA1F2', 'profile_sidebar_border_color': 'C0DEED', 'profile_sidebar_fill_color': 'DDEEF6', 'profile_text_color': '333333', 'profile_use_background_image': True, 'has_extended_profile': False, 'default_profile': True, 'default_profile_image': False, 'following': False, 'follow_request_sent': False, 'notifications': False, 'translator_type': 'none', 'withheld_in_countries': []}, 'geo': None, 'coordinates': None, 'place': None, 'contributors': None, 'is_quote_status': False, 'retweet_count': 0, 'favorite_count': 0, 'favorited': False, 'retweeted': False, 'possibly_sensitive': False, 'lang': 'en'}, created_at=datetime.datetime(2022, 11, 28, 15, 58, 51, tzinfo=datetime.timezone.utc), id=1597258729233186818, id_str='1597258729233186818', text='tweeted an image from colab https://t.co/YWb97W1e5N', truncated=False, entities={'hashtags': [], 'symbols': [], 'user_mentions': [], 'urls': [], 'media': [{'id': 1597258728037924865, 'id_str': '1597258728037924865', 'indices': [28, 51], 'media_url': 'http://pbs.twimg.com/media/FiqaWbsXwAEs8k2.png', 'media_url_https': 'https://pbs.twimg.com/media/FiqaWbsXwAEs8k2.png', 'url': 'https://t.co/YWb97W1e5N', 'display_url': 'pic.twitter.com/YWb97W1e5N', 'expanded_url': 'https://twitter.com/tobonay/status/1597258729233186818/photo/1', 'type': 'photo', 'sizes': {'large': {'w': 602, 'h': 344, 'resize': 'fit'}, 'medium': {'w': 602, 'h': 344, 'resize': 'fit'}, 'small': {'w': 602, 'h': 344, 'resize': 'fit'}, 'thumb': {'w': 150, 'h': 150, 'resize': 'crop'}}}]}, extended_entities={'media': [{'id': 1597258728037924865, 'id_str': '1597258728037924865', 'indices': [28, 51], 'media_url': 'http://pbs.twimg.com/media/FiqaWbsXwAEs8k2.png', 'media_url_https': 'https://pbs.twimg.com/media/FiqaWbsXwAEs8k2.png', 'url': 'https://t.co/YWb97W1e5N', 'display_url': 'pic.twitter.com/YWb97W1e5N', 'expanded_url': 'https://twitter.com/tobonay/status/1597258729233186818/photo/1', 'type': 'photo', 'sizes': {'large': {'w': 602, 'h': 344, 'resize': 'fit'}, 'medium': {'w': 602, 'h': 344, 'resize': 'fit'}, 'small': {'w': 602, 'h': 344, 'resize': 'fit'}, 'thumb': {'w': 150, 'h': 150, 'resize': 'crop'}}}]}, source='synthetic-normal', source_url='https://yyyyyyyy.xyz', in_reply_to_status_id=None, in_reply_to_status_id_str=None, in_reply_to_user_id=None, in_reply_to_user_id_str=None, in_reply_to_screen_name=None, author=User(_api=<tweepy.api.API object at 0x7f0be67c6c50>, _json={'id': 812625522689765376, 'id_str': '812625522689765376', 'name': 'tobonay', 'screen_name': 'tobonay', 'location': '', 'description': '', 'url': None, 'entities': {'description': {'urls': []}}, 'protected': False, 'followers_count': 17, 'friends_count': 31, 'listed_count': 0, 'created_at': 'Sat Dec 24 11:46:37 +0000 2016', 'favourites_count': 4, 'utc_offset': None, 'time_zone': None, 'geo_enabled': False, 'verified': False, 'statuses_count': 262, 'lang': None, 'contributors_enabled': False, 'is_translator': False, 'is_translation_enabled': False, 'profile_background_color': 'F5F8FA', 'profile_background_image_url': None, 'profile_background_image_url_https': None, 'profile_background_tile': False, 'profile_image_url': 'http://pbs.twimg.com/profile_images/870298485773488128/QrsOZ_Sh_normal.jpg', 'profile_image_url_https': 'https://pbs.twimg.com/profile_images/870298485773488128/QrsOZ_Sh_normal.jpg', 'profile_banner_url': 'https://pbs.twimg.com/profile_banners/812625522689765376/1496330382', 'profile_link_color': '1DA1F2', 'profile_sidebar_border_color': 'C0DEED', 'profile_sidebar_fill_color': 'DDEEF6', 'profile_text_color': '333333', 'profile_use_background_image': True, 'has_extended_profile': False, 'default_profile': True, 'default_profile_image': False, 'following': False, 'follow_request_sent': False, 'notifications': False, 'translator_type': 'none', 'withheld_in_countries': []}, id=812625522689765376, id_str='812625522689765376', name='tobonay', screen_name='tobonay', location='', description='', url=None, entities={'description': {'urls': []}}, protected=False, followers_count=17, friends_count=31, listed_count=0, created_at=datetime.datetime(2016, 12, 24, 11, 46, 37, tzinfo=datetime.timezone.utc), favourites_count=4, utc_offset=None, time_zone=None, geo_enabled=False, verified=False, statuses_count=262, lang=None, contributors_enabled=False, is_translator=False, is_translation_enabled=False, profile_background_color='F5F8FA', profile_background_image_url=None, profile_background_image_url_https=None, profile_background_tile=False, profile_image_url='http://pbs.twimg.com/profile_images/870298485773488128/QrsOZ_Sh_normal.jpg', profile_image_url_https='https://pbs.twimg.com/profile_images/870298485773488128/QrsOZ_Sh_normal.jpg', profile_banner_url='https://pbs.twimg.com/profile_banners/812625522689765376/1496330382', profile_link_color='1DA1F2', profile_sidebar_border_color='C0DEED', profile_sidebar_fill_color='DDEEF6', profile_text_color='333333', profile_use_background_image=True, has_extended_profile=False, default_profile=True, default_profile_image=False, following=False, follow_request_sent=False, notifications=False, translator_type='none', withheld_in_countries=[]), user=User(_api=<tweepy.api.API object at 0x7f0be67c6c50>, _json={'id': 812625522689765376, 'id_str': '812625522689765376', 'name': 'tobonay', 'screen_name': 'tobonay', 'location': '', 'description': '', 'url': None, 'entities': {'description': {'urls': []}}, 'protected': False, 'followers_count': 17, 'friends_count': 31, 'listed_count': 0, 'created_at': 'Sat Dec 24 11:46:37 +0000 2016', 'favourites_count': 4, 'utc_offset': None, 'time_zone': None, 'geo_enabled': False, 'verified': False, 'statuses_count': 262, 'lang': None, 'contributors_enabled': False, 'is_translator': False, 'is_translation_enabled': False, 'profile_background_color': 'F5F8FA', 'profile_background_image_url': None, 'profile_background_image_url_https': None, 'profile_background_tile': False, 'profile_image_url': 'http://pbs.twimg.com/profile_images/870298485773488128/QrsOZ_Sh_normal.jpg', 'profile_image_url_https': 'https://pbs.twimg.com/profile_images/870298485773488128/QrsOZ_Sh_normal.jpg', 'profile_banner_url': 'https://pbs.twimg.com/profile_banners/812625522689765376/1496330382', 'profile_link_color': '1DA1F2', 'profile_sidebar_border_color': 'C0DEED', 'profile_sidebar_fill_color': 'DDEEF6', 'profile_text_color': '333333', 'profile_use_background_image': True, 'has_extended_profile': False, 'default_profile': True, 'default_profile_image': False, 'following': False, 'follow_request_sent': False, 'notifications': False, 'translator_type': 'none', 'withheld_in_countries': []}, id=812625522689765376, id_str='812625522689765376', name='tobonay', screen_name='tobonay', location='', description='', url=None, entities={'description': {'urls': []}}, protected=False, followers_count=17, friends_count=31, listed_count=0, created_at=datetime.datetime(2016, 12, 24, 11, 46, 37, tzinfo=datetime.timezone.utc), favourites_count=4, utc_offset=None, time_zone=None, geo_enabled=False, verified=False, statuses_count=262, lang=None, contributors_enabled=False, is_translator=False, is_translation_enabled=False, profile_background_color='F5F8FA', profile_background_image_url=None, profile_background_image_url_https=None, profile_background_tile=False, profile_image_url='http://pbs.twimg.com/profile_images/870298485773488128/QrsOZ_Sh_normal.jpg', profile_image_url_https='https://pbs.twimg.com/profile_images/870298485773488128/QrsOZ_Sh_normal.jpg', profile_banner_url='https://pbs.twimg.com/profile_banners/812625522689765376/1496330382', profile_link_color='1DA1F2', profile_sidebar_border_color='C0DEED', profile_sidebar_fill_color='DDEEF6', profile_text_color='333333', profile_use_background_image=True, has_extended_profile=False, default_profile=True, default_profile_image=False, following=False, follow_request_sent=False, notifications=False, translator_type='none', withheld_in_countries=[]), geo=None, coordinates=None, place=None, contributors=None, is_quote_status=False, retweet_count=0, favorite_count=0, favorited=False, retweeted=False, possibly_sensitive=False, lang='en')"
            ]
          },
          "metadata": {},
          "execution_count": 13
        }
      ]
    },
    {
      "cell_type": "markdown",
      "source": [
        "## Stream Tweets (might not always work)\n",
        "\n",
        "⚠️⚠️⚠️ ATTENZIONE ⚠️⚠️⚠️\n",
        "\n",
        "This will very quickly burn all your credits, therefore use with care "
      ],
      "metadata": {
        "id": "VeSczA6i-x9t"
      }
    },
    {
      "cell_type": "code",
      "source": [
        "# @title Stream tweets\n",
        "\n",
        "limit = 0\n",
        "\n",
        "BEARER_TOKEN = '*'\n",
        "\n",
        "class TwitterStreamer(tweepy.StreamingClient):\n",
        "  def on_tweet(self, tweet):\n",
        "    global limit\n",
        "    status_var = \"\\\"\" + tweet.text + \"\\\"\"\n",
        "    print(tweet.text)\n",
        "    limit+=1\n",
        "    if limit >=10:\n",
        "      raise KeyboardInterrupt\n",
        "  \n",
        "  def on_errors(self, errors):\n",
        "    print(f\"Received error code {errors}\")\n",
        "    self.disconnect()\n",
        "    return False\n",
        "\n",
        "\n",
        "streamer = TwitterStreamer(BEARER_TOKEN)\n",
        "streamer.add_rules(tweepy.StreamRule(\"apple lang:en\"))\n",
        "streamer.filter()\n",
        "\n",
        "\n"
      ],
      "metadata": {
        "colab": {
          "base_uri": "https://localhost:8080/",
          "height": 674
        },
        "id": "pibfX48fZpW0",
        "outputId": "201a04f7-6c2b-4918-9796-a43ee7a9982b"
      },
      "execution_count": null,
      "outputs": [
        {
          "output_type": "stream",
          "name": "stdout",
          "text": [
            "@AmieElle I renogotiated with sky and my sky q bill went down from 85 quid a month to 45 quid a month and the only thing I miss is multiroom as it would have allowed me to watch sky sports on my Apple TV. But I can still watch on my iPad and normal TV.\n",
            "Monday Morning Laughs. #GoBlue https://t.co/QqfJAqFGSL\n",
            "@iZotopeInc apple trackpad for when the mouse dies\n",
            "RT @pepesgrandma: 🚨🚨🚨 Apple helps the Chinese Communist Party limit citizen communications during protest!\n",
            "@benzkenney @Kenney_Heilprin If this move was to schedule into the 4th spot of the conference, then the hire was a fail. This move should have been made to fall in right behind OSU and Michigan with teams good enough consistently to challenge them. If recruiting takes off, then maybe higher\n",
            "@smhchasity he bodied this\n",
            "Buffalo supermarket-shooting suspect pleads guilty to murder and terrorism charges - ABC News https://t.co/DbFgj9QwNE\n",
            "@AppleEDU @pataratann_ I Wish I discovered this earlier. Uniswap is being exploited by this guy. More than $100k so far https://t.co/vz5PxRVsMs leaked in discord group\n",
            "RT @ChartsJJK: Apple Music \n",
            "\n",
            "Top 100: Global\n",
            "\n",
            "#81 (+5) Dreamers — Jung Kook (RE-PEAK)\n",
            "@jareddipane @Casey @Casey this is it!\n"
          ]
        },
        {
          "output_type": "error",
          "ename": "KeyboardInterrupt",
          "evalue": "ignored",
          "traceback": [
            "\u001b[0;31m---------------------------------------------------------------------------\u001b[0m",
            "\u001b[0;31mKeyboardInterrupt\u001b[0m                         Traceback (most recent call last)",
            "\u001b[0;32m<ipython-input-37-4d874f5a099b>\u001b[0m in \u001b[0;36m<module>\u001b[0;34m\u001b[0m\n\u001b[1;32m     22\u001b[0m \u001b[0mstreamer\u001b[0m \u001b[0;34m=\u001b[0m \u001b[0mTwitterStreamer\u001b[0m\u001b[0;34m(\u001b[0m\u001b[0mBEARER_TOKEN\u001b[0m\u001b[0;34m)\u001b[0m\u001b[0;34m\u001b[0m\u001b[0;34m\u001b[0m\u001b[0m\n\u001b[1;32m     23\u001b[0m \u001b[0mstreamer\u001b[0m\u001b[0;34m.\u001b[0m\u001b[0madd_rules\u001b[0m\u001b[0;34m(\u001b[0m\u001b[0mtweepy\u001b[0m\u001b[0;34m.\u001b[0m\u001b[0mStreamRule\u001b[0m\u001b[0;34m(\u001b[0m\u001b[0;34m\"apple lang:en\"\u001b[0m\u001b[0;34m)\u001b[0m\u001b[0;34m)\u001b[0m\u001b[0;34m\u001b[0m\u001b[0;34m\u001b[0m\u001b[0m\n\u001b[0;32m---> 24\u001b[0;31m \u001b[0mstreamer\u001b[0m\u001b[0;34m.\u001b[0m\u001b[0mfilter\u001b[0m\u001b[0;34m(\u001b[0m\u001b[0;34m)\u001b[0m\u001b[0;34m\u001b[0m\u001b[0;34m\u001b[0m\u001b[0m\n\u001b[0m\u001b[1;32m     25\u001b[0m \u001b[0;34m\u001b[0m\u001b[0m\n\u001b[1;32m     26\u001b[0m \u001b[0;34m\u001b[0m\u001b[0m\n",
            "\u001b[0;32m/usr/local/lib/python3.7/dist-packages/tweepy/streaming.py\u001b[0m in \u001b[0;36mfilter\u001b[0;34m(self, threaded, **params)\u001b[0m\n\u001b[1;32m    804\u001b[0m             \u001b[0;32mreturn\u001b[0m \u001b[0mself\u001b[0m\u001b[0;34m.\u001b[0m\u001b[0m_threaded_connect\u001b[0m\u001b[0;34m(\u001b[0m\u001b[0mmethod\u001b[0m\u001b[0;34m,\u001b[0m \u001b[0mendpoint\u001b[0m\u001b[0;34m,\u001b[0m \u001b[0mparams\u001b[0m\u001b[0;34m=\u001b[0m\u001b[0mparams\u001b[0m\u001b[0;34m)\u001b[0m\u001b[0;34m\u001b[0m\u001b[0;34m\u001b[0m\u001b[0m\n\u001b[1;32m    805\u001b[0m         \u001b[0;32melse\u001b[0m\u001b[0;34m:\u001b[0m\u001b[0;34m\u001b[0m\u001b[0;34m\u001b[0m\u001b[0m\n\u001b[0;32m--> 806\u001b[0;31m             \u001b[0mself\u001b[0m\u001b[0;34m.\u001b[0m\u001b[0m_connect\u001b[0m\u001b[0;34m(\u001b[0m\u001b[0mmethod\u001b[0m\u001b[0;34m,\u001b[0m \u001b[0mendpoint\u001b[0m\u001b[0;34m,\u001b[0m \u001b[0mparams\u001b[0m\u001b[0;34m=\u001b[0m\u001b[0mparams\u001b[0m\u001b[0;34m)\u001b[0m\u001b[0;34m\u001b[0m\u001b[0;34m\u001b[0m\u001b[0m\n\u001b[0m\u001b[1;32m    807\u001b[0m \u001b[0;34m\u001b[0m\u001b[0m\n\u001b[1;32m    808\u001b[0m     \u001b[0;32mdef\u001b[0m \u001b[0mget_rules\u001b[0m\u001b[0;34m(\u001b[0m\u001b[0mself\u001b[0m\u001b[0;34m,\u001b[0m \u001b[0;34m**\u001b[0m\u001b[0mparams\u001b[0m\u001b[0;34m)\u001b[0m\u001b[0;34m:\u001b[0m\u001b[0;34m\u001b[0m\u001b[0;34m\u001b[0m\u001b[0m\n",
            "\u001b[0;32m/usr/local/lib/python3.7/dist-packages/tweepy/streaming.py\u001b[0m in \u001b[0;36m_connect\u001b[0;34m(self, method, endpoint, **kwargs)\u001b[0m\n\u001b[1;32m    624\u001b[0m         \u001b[0mself\u001b[0m\u001b[0;34m.\u001b[0m\u001b[0msession\u001b[0m\u001b[0;34m.\u001b[0m\u001b[0mheaders\u001b[0m\u001b[0;34m[\u001b[0m\u001b[0;34m\"Authorization\"\u001b[0m\u001b[0;34m]\u001b[0m \u001b[0;34m=\u001b[0m \u001b[0;34mf\"Bearer {self.bearer_token}\"\u001b[0m\u001b[0;34m\u001b[0m\u001b[0;34m\u001b[0m\u001b[0m\n\u001b[1;32m    625\u001b[0m         \u001b[0murl\u001b[0m \u001b[0;34m=\u001b[0m \u001b[0;34mf\"https://api.twitter.com/2/tweets/{endpoint}/stream\"\u001b[0m\u001b[0;34m\u001b[0m\u001b[0;34m\u001b[0m\u001b[0m\n\u001b[0;32m--> 626\u001b[0;31m         \u001b[0msuper\u001b[0m\u001b[0;34m(\u001b[0m\u001b[0;34m)\u001b[0m\u001b[0;34m.\u001b[0m\u001b[0m_connect\u001b[0m\u001b[0;34m(\u001b[0m\u001b[0mmethod\u001b[0m\u001b[0;34m,\u001b[0m \u001b[0murl\u001b[0m\u001b[0;34m,\u001b[0m \u001b[0;34m**\u001b[0m\u001b[0mkwargs\u001b[0m\u001b[0;34m)\u001b[0m\u001b[0;34m\u001b[0m\u001b[0;34m\u001b[0m\u001b[0m\n\u001b[0m\u001b[1;32m    627\u001b[0m \u001b[0;34m\u001b[0m\u001b[0m\n\u001b[1;32m    628\u001b[0m     \u001b[0;32mdef\u001b[0m \u001b[0m_process_data\u001b[0m\u001b[0;34m(\u001b[0m\u001b[0mself\u001b[0m\u001b[0;34m,\u001b[0m \u001b[0mdata\u001b[0m\u001b[0;34m,\u001b[0m \u001b[0mdata_type\u001b[0m\u001b[0;34m=\u001b[0m\u001b[0;32mNone\u001b[0m\u001b[0;34m)\u001b[0m\u001b[0;34m:\u001b[0m\u001b[0;34m\u001b[0m\u001b[0;34m\u001b[0m\u001b[0m\n",
            "\u001b[0;32m/usr/local/lib/python3.7/dist-packages/tweepy/streaming.py\u001b[0m in \u001b[0;36m_connect\u001b[0;34m(self, method, url, auth, params, headers, body, timeout)\u001b[0m\n\u001b[1;32m     92\u001b[0m                             ):\n\u001b[1;32m     93\u001b[0m                                 \u001b[0;32mif\u001b[0m \u001b[0mline\u001b[0m\u001b[0;34m:\u001b[0m\u001b[0;34m\u001b[0m\u001b[0;34m\u001b[0m\u001b[0m\n\u001b[0;32m---> 94\u001b[0;31m                                     \u001b[0mself\u001b[0m\u001b[0;34m.\u001b[0m\u001b[0mon_data\u001b[0m\u001b[0;34m(\u001b[0m\u001b[0mline\u001b[0m\u001b[0;34m)\u001b[0m\u001b[0;34m\u001b[0m\u001b[0;34m\u001b[0m\u001b[0m\n\u001b[0m\u001b[1;32m     95\u001b[0m                                 \u001b[0;32melse\u001b[0m\u001b[0;34m:\u001b[0m\u001b[0;34m\u001b[0m\u001b[0;34m\u001b[0m\u001b[0m\n\u001b[1;32m     96\u001b[0m                                     \u001b[0mself\u001b[0m\u001b[0;34m.\u001b[0m\u001b[0mon_keep_alive\u001b[0m\u001b[0;34m(\u001b[0m\u001b[0;34m)\u001b[0m\u001b[0;34m\u001b[0m\u001b[0;34m\u001b[0m\u001b[0m\n",
            "\u001b[0;32m/usr/local/lib/python3.7/dist-packages/tweepy/streaming.py\u001b[0m in \u001b[0;36mon_data\u001b[0;34m(self, raw_data)\u001b[0m\n\u001b[1;32m    934\u001b[0m         \u001b[0;32mif\u001b[0m \u001b[0;34m\"data\"\u001b[0m \u001b[0;32min\u001b[0m \u001b[0mdata\u001b[0m\u001b[0;34m:\u001b[0m\u001b[0;34m\u001b[0m\u001b[0;34m\u001b[0m\u001b[0m\n\u001b[1;32m    935\u001b[0m             \u001b[0mtweet\u001b[0m \u001b[0;34m=\u001b[0m \u001b[0mTweet\u001b[0m\u001b[0;34m(\u001b[0m\u001b[0mdata\u001b[0m\u001b[0;34m[\u001b[0m\u001b[0;34m\"data\"\u001b[0m\u001b[0;34m]\u001b[0m\u001b[0;34m)\u001b[0m\u001b[0;34m\u001b[0m\u001b[0;34m\u001b[0m\u001b[0m\n\u001b[0;32m--> 936\u001b[0;31m             \u001b[0mself\u001b[0m\u001b[0;34m.\u001b[0m\u001b[0mon_tweet\u001b[0m\u001b[0;34m(\u001b[0m\u001b[0mtweet\u001b[0m\u001b[0;34m)\u001b[0m\u001b[0;34m\u001b[0m\u001b[0;34m\u001b[0m\u001b[0m\n\u001b[0m\u001b[1;32m    937\u001b[0m         \u001b[0;32mif\u001b[0m \u001b[0;34m\"includes\"\u001b[0m \u001b[0;32min\u001b[0m \u001b[0mdata\u001b[0m\u001b[0;34m:\u001b[0m\u001b[0;34m\u001b[0m\u001b[0;34m\u001b[0m\u001b[0m\n\u001b[1;32m    938\u001b[0m             \u001b[0mincludes\u001b[0m \u001b[0;34m=\u001b[0m \u001b[0mself\u001b[0m\u001b[0;34m.\u001b[0m\u001b[0m_process_includes\u001b[0m\u001b[0;34m(\u001b[0m\u001b[0mdata\u001b[0m\u001b[0;34m[\u001b[0m\u001b[0;34m\"includes\"\u001b[0m\u001b[0;34m]\u001b[0m\u001b[0;34m)\u001b[0m\u001b[0;34m\u001b[0m\u001b[0;34m\u001b[0m\u001b[0m\n",
            "\u001b[0;32m<ipython-input-37-4d874f5a099b>\u001b[0m in \u001b[0;36mon_tweet\u001b[0;34m(self, tweet)\u001b[0m\n\u001b[1;32m     12\u001b[0m     \u001b[0mlimit\u001b[0m\u001b[0;34m+=\u001b[0m\u001b[0;36m1\u001b[0m\u001b[0;34m\u001b[0m\u001b[0;34m\u001b[0m\u001b[0m\n\u001b[1;32m     13\u001b[0m     \u001b[0;32mif\u001b[0m \u001b[0mlimit\u001b[0m \u001b[0;34m>=\u001b[0m\u001b[0;36m10\u001b[0m\u001b[0;34m:\u001b[0m\u001b[0;34m\u001b[0m\u001b[0;34m\u001b[0m\u001b[0m\n\u001b[0;32m---> 14\u001b[0;31m       \u001b[0;32mraise\u001b[0m \u001b[0mKeyboardInterrupt\u001b[0m\u001b[0;34m\u001b[0m\u001b[0;34m\u001b[0m\u001b[0m\n\u001b[0m\u001b[1;32m     15\u001b[0m \u001b[0;34m\u001b[0m\u001b[0m\n\u001b[1;32m     16\u001b[0m   \u001b[0;32mdef\u001b[0m \u001b[0mon_errors\u001b[0m\u001b[0;34m(\u001b[0m\u001b[0mself\u001b[0m\u001b[0;34m,\u001b[0m \u001b[0merrors\u001b[0m\u001b[0;34m)\u001b[0m\u001b[0;34m:\u001b[0m\u001b[0;34m\u001b[0m\u001b[0;34m\u001b[0m\u001b[0m\n",
            "\u001b[0;31mKeyboardInterrupt\u001b[0m: "
          ]
        }
      ]
    },
    {
      "cell_type": "markdown",
      "source": [
        "# TO DO in class:\n",
        "- search the web for sentences to be used as tweets, make them into a json to be used programmatically\n",
        "- generate random images with python and post them to the own twitter account\n",
        "- create a retweet for every tweet matching a search query"
      ],
      "metadata": {
        "id": "strv4rprJFGr"
      }
    },
    {
      "cell_type": "code",
      "source": [],
      "metadata": {
        "id": "fSpQoQz6Aycl"
      },
      "execution_count": null,
      "outputs": []
    }
  ]
}